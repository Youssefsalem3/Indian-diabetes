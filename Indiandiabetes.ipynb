{
 "cells": [
  {
   "cell_type": "markdown",
   "id": "f9ccd217",
   "metadata": {},
   "source": [
    "**Preprocessing**"
   ]
  },
  {
   "cell_type": "code",
   "execution_count": 234,
   "id": "d888643b",
   "metadata": {},
   "outputs": [],
   "source": [
    "# Load libraries\n",
    "import pandas as pd\n",
    "from sklearn.tree import DecisionTreeClassifier # Import Decision Tree Classifier\n",
    "from sklearn.model_selection import train_test_split # Import train_test_split function\n",
    "from sklearn import metrics\n",
    "\n",
    "#Import scikit-learn metrics module for accuracy calculation"
   ]
  },
  {
   "cell_type": "code",
   "execution_count": 235,
   "id": "80761780",
   "metadata": {},
   "outputs": [],
   "source": [
    "col_names = ['pregnant', 'glucose', 'bp', 'skin', 'insulin', 'bmi', 'pedigree', 'age', 'label']\n",
    "# load dataset\n",
    "pima = pd.read_csv(\"https://raw.githubusercontent.com/jbrownlee/Datasets/master/pima-indians-diabetes.data.csv\", header=None, names=col_names)"
   ]
  },
  {
   "cell_type": "code",
   "execution_count": 236,
   "id": "8ee3ac1b",
   "metadata": {},
   "outputs": [
    {
     "data": {
      "text/html": [
       "<div>\n",
       "<style scoped>\n",
       "    .dataframe tbody tr th:only-of-type {\n",
       "        vertical-align: middle;\n",
       "    }\n",
       "\n",
       "    .dataframe tbody tr th {\n",
       "        vertical-align: top;\n",
       "    }\n",
       "\n",
       "    .dataframe thead th {\n",
       "        text-align: right;\n",
       "    }\n",
       "</style>\n",
       "<table border=\"1\" class=\"dataframe\">\n",
       "  <thead>\n",
       "    <tr style=\"text-align: right;\">\n",
       "      <th></th>\n",
       "      <th>pregnant</th>\n",
       "      <th>glucose</th>\n",
       "      <th>bp</th>\n",
       "      <th>skin</th>\n",
       "      <th>insulin</th>\n",
       "      <th>bmi</th>\n",
       "      <th>pedigree</th>\n",
       "      <th>age</th>\n",
       "      <th>label</th>\n",
       "    </tr>\n",
       "  </thead>\n",
       "  <tbody>\n",
       "    <tr>\n",
       "      <th>0</th>\n",
       "      <td>6</td>\n",
       "      <td>148</td>\n",
       "      <td>72</td>\n",
       "      <td>35</td>\n",
       "      <td>0</td>\n",
       "      <td>33.6</td>\n",
       "      <td>0.627</td>\n",
       "      <td>50</td>\n",
       "      <td>1</td>\n",
       "    </tr>\n",
       "    <tr>\n",
       "      <th>1</th>\n",
       "      <td>1</td>\n",
       "      <td>85</td>\n",
       "      <td>66</td>\n",
       "      <td>29</td>\n",
       "      <td>0</td>\n",
       "      <td>26.6</td>\n",
       "      <td>0.351</td>\n",
       "      <td>31</td>\n",
       "      <td>0</td>\n",
       "    </tr>\n",
       "    <tr>\n",
       "      <th>2</th>\n",
       "      <td>8</td>\n",
       "      <td>183</td>\n",
       "      <td>64</td>\n",
       "      <td>0</td>\n",
       "      <td>0</td>\n",
       "      <td>23.3</td>\n",
       "      <td>0.672</td>\n",
       "      <td>32</td>\n",
       "      <td>1</td>\n",
       "    </tr>\n",
       "    <tr>\n",
       "      <th>3</th>\n",
       "      <td>1</td>\n",
       "      <td>89</td>\n",
       "      <td>66</td>\n",
       "      <td>23</td>\n",
       "      <td>94</td>\n",
       "      <td>28.1</td>\n",
       "      <td>0.167</td>\n",
       "      <td>21</td>\n",
       "      <td>0</td>\n",
       "    </tr>\n",
       "    <tr>\n",
       "      <th>4</th>\n",
       "      <td>0</td>\n",
       "      <td>137</td>\n",
       "      <td>40</td>\n",
       "      <td>35</td>\n",
       "      <td>168</td>\n",
       "      <td>43.1</td>\n",
       "      <td>2.288</td>\n",
       "      <td>33</td>\n",
       "      <td>1</td>\n",
       "    </tr>\n",
       "  </tbody>\n",
       "</table>\n",
       "</div>"
      ],
      "text/plain": [
       "   pregnant  glucose  bp  skin  insulin   bmi  pedigree  age  label\n",
       "0         6      148  72    35        0  33.6     0.627   50      1\n",
       "1         1       85  66    29        0  26.6     0.351   31      0\n",
       "2         8      183  64     0        0  23.3     0.672   32      1\n",
       "3         1       89  66    23       94  28.1     0.167   21      0\n",
       "4         0      137  40    35      168  43.1     2.288   33      1"
      ]
     },
     "execution_count": 236,
     "metadata": {},
     "output_type": "execute_result"
    }
   ],
   "source": [
    "pima.head()"
   ]
  },
  {
   "cell_type": "code",
   "execution_count": 237,
   "id": "e8b16b4c",
   "metadata": {},
   "outputs": [],
   "source": [
    "#split dataset in features and target variable\n",
    "feature_cols = ['pregnant', 'insulin', 'bmi', 'age','glucose','bp','pedigree']\n",
    "X = pima[feature_cols] # Features\n",
    "y = pima.label # Target variable"
   ]
  },
  {
   "cell_type": "code",
   "execution_count": 238,
   "id": "0d117d96",
   "metadata": {},
   "outputs": [
    {
     "name": "stdout",
     "output_type": "stream",
     "text": [
      "Total number of rows: 768\n",
      "Number of rows missing Pregnancies: 111\n",
      "Number of rows missing Glucose: 5\n",
      "Number of rows missing BloodPressure: 35\n",
      "Number of rows missing SkinThickness: 227\n",
      "Number of rows missing Insulin: 374\n",
      "Number of rows missing BMI: 11\n",
      "Number of rows missing DiabetesPedigreeFunction: 0\n",
      "Number of rows missing Age: 0\n"
     ]
    }
   ],
   "source": [
    "# Check columns with zero values\n",
    "print(\"Total number of rows: {0}\".format(len(pima)))\n",
    "print(\"Number of rows missing Pregnancies: {0}\".format(len(pima.loc[pima['pregnant']==0])))\n",
    "print(\"Number of rows missing Glucose: {0}\".format(len(pima.loc[pima['glucose']==0])))\n",
    "print(\"Number of rows missing BloodPressure: {0}\".format(len(pima.loc[pima['bp']==0])))\n",
    "print(\"Number of rows missing SkinThickness: {0}\".format(len(pima.loc[pima['skin']==0])))\n",
    "print(\"Number of rows missing Insulin: {0}\".format(len(pima.loc[pima['insulin']==0])))\n",
    "print(\"Number of rows missing BMI: {0}\".format(len(pima.loc[pima['bmi']==0])))\n",
    "print(\"Number of rows missing DiabetesPedigreeFunction: {0}\".format(len(pima.loc[pima['pedigree']==0])))\n",
    "print(\"Number of rows missing Age: {0}\".format(len(pima.loc[pima['age']==0])))\n"
   ]
  },
  {
   "cell_type": "code",
   "execution_count": 239,
   "id": "0ad60eb1",
   "metadata": {},
   "outputs": [],
   "source": [
    "# Split dataset into training set and test set\n",
    "X_train, X_test, y_train, y_test = train_test_split(X, y, test_size=0.3, random_state=1) # 70% training and 30% test|"
   ]
  },
  {
   "cell_type": "code",
   "execution_count": 240,
   "id": "2cc52e89",
   "metadata": {},
   "outputs": [],
   "source": [
    "# Imputing zeros values in the dataset\n",
    "from sklearn.impute import SimpleImputer\n",
    "imputer = SimpleImputer(missing_values=0, strategy='mean')\n",
    "X_train = imputer.fit_transform(X_train)\n",
    "X_test = imputer.fit_transform(X_test)"
   ]
  },
  {
   "cell_type": "markdown",
   "id": "06913376",
   "metadata": {},
   "source": [
    "**Decision tree classifier**"
   ]
  },
  {
   "cell_type": "code",
   "execution_count": 268,
   "id": "663d54b3",
   "metadata": {},
   "outputs": [
    {
     "name": "stdout",
     "output_type": "stream",
     "text": [
      "Accuracy: 0.8181818181818182\n"
     ]
    }
   ],
   "source": [
    "\n",
    "# Create Decision Tree classifer object\n",
    "clf = DecisionTreeClassifier(criterion=\"entropy\", max_depth=5)\n",
    "\n",
    "# Train Decision Tree Classifer\n",
    "clf = clf.fit(X_train,y_train)\n",
    "\n",
    "#Predict the response for test dataset\n",
    "y_pred = clf.predict(X_test)\n",
    "\n",
    "# Model Accuracy, how often is the classifier correct?\n",
    "print(\"Accuracy:\",metrics.accuracy_score(y_test, y_pred))"
   ]
  },
  {
   "cell_type": "code",
   "execution_count": 269,
   "id": "cd1fb4f4",
   "metadata": {},
   "outputs": [
    {
     "name": "stdout",
     "output_type": "stream",
     "text": [
      "\n",
      "CR by library method=\n",
      "\n",
      "\n",
      "               precision    recall  f1-score   support\n",
      "\n",
      "           0       0.85      0.86      0.86       146\n",
      "           1       0.76      0.74      0.75        85\n",
      "\n",
      "    accuracy                           0.82       231\n",
      "   macro avg       0.81      0.80      0.80       231\n",
      "weighted avg       0.82      0.82      0.82       231\n",
      "\n"
     ]
    }
   ],
   "source": [
    "from sklearn.metrics import confusion_matrix, ConfusionMatrixDisplay\n",
    "metrics.confusion_matrix(y_test,y_pred)\n",
    "\n",
    "cm=confusion_matrix(y_test, y_pred)\n",
    "from sklearn.metrics import classification_report\n",
    "print(\"\\nCR by library method=\\n\\n\\n\",classification_report(y_test, y_pred))"
   ]
  },
  {
   "cell_type": "markdown",
   "id": "d2e7d336",
   "metadata": {},
   "source": [
    "**SVM**"
   ]
  },
  {
   "cell_type": "code",
   "execution_count": 270,
   "id": "10e1255d",
   "metadata": {},
   "outputs": [],
   "source": [
    "from sklearn.svm import SVC"
   ]
  },
  {
   "cell_type": "code",
   "execution_count": 271,
   "id": "94a0b93f",
   "metadata": {},
   "outputs": [
    {
     "name": "stdout",
     "output_type": "stream",
     "text": [
      "Accuracy score 0.779\n"
     ]
    }
   ],
   "source": [
    "# Instantiate the Support Vector Classifier (SVC)\n",
    "svc = SVC(C=11.0, random_state=11, kernel='poly')\n",
    " \n",
    "# Fit the model\n",
    "svc.fit(X_train, y_train)\n",
    "\n",
    "# Make the predictions\n",
    "y_predict = svc.predict(X_test)\n",
    "\n",
    "# Measure the performance\n",
    "print(\"Accuracy score %.3f\" %metrics.accuracy_score(y_test, y_predict))\n"
   ]
  },
  {
   "cell_type": "code",
   "execution_count": 272,
   "id": "1e3fc9a4",
   "metadata": {},
   "outputs": [
    {
     "name": "stdout",
     "output_type": "stream",
     "text": [
      "\n",
      "CR by library method=\n",
      "\n",
      "\n",
      "               precision    recall  f1-score   support\n",
      "\n",
      "           0       0.77      0.94      0.84       146\n",
      "           1       0.83      0.51      0.63        85\n",
      "\n",
      "    accuracy                           0.78       231\n",
      "   macro avg       0.80      0.72      0.74       231\n",
      "weighted avg       0.79      0.78      0.76       231\n",
      "\n"
     ]
    }
   ],
   "source": [
    "from sklearn.metrics import confusion_matrix, ConfusionMatrixDisplay\n",
    "metrics.confusion_matrix(y_test,y_predict)\n",
    "\n",
    "cm=confusion_matrix(y_test, y_predict)\n",
    "from sklearn.metrics import classification_report\n",
    "print(\"\\nCR by library method=\\n\\n\\n\",classification_report(y_test, y_predict))"
   ]
  },
  {
   "cell_type": "markdown",
   "id": "735355f1",
   "metadata": {},
   "source": [
    "**Logistic Regression**"
   ]
  },
  {
   "cell_type": "code",
   "execution_count": 273,
   "id": "978c3490",
   "metadata": {},
   "outputs": [
    {
     "name": "stdout",
     "output_type": "stream",
     "text": [
      "Accuracy: 78.79\n"
     ]
    }
   ],
   "source": [
    "from sklearn.linear_model import LogisticRegression\n",
    "from sklearn.metrics import accuracy_score\n",
    "# define the model\n",
    "model = LogisticRegression()\n",
    "# fit on the training set\n",
    "model.fit(X_train, y_train)\n",
    "# predict on test set\n",
    "yhat = model.predict(X_test)\n",
    "# evaluate predictions\n",
    "accuracy = accuracy_score(y_test, yhat)\n",
    "print('Accuracy: %.2f' % (accuracy*100))"
   ]
  },
  {
   "cell_type": "code",
   "execution_count": 274,
   "id": "2459bfd8",
   "metadata": {},
   "outputs": [
    {
     "name": "stdout",
     "output_type": "stream",
     "text": [
      "\n",
      "CR by library method=\n",
      "\n",
      "\n",
      "               precision    recall  f1-score   support\n",
      "\n",
      "           0       0.79      0.90      0.84       146\n",
      "           1       0.77      0.60      0.68        85\n",
      "\n",
      "    accuracy                           0.79       231\n",
      "   macro avg       0.78      0.75      0.76       231\n",
      "weighted avg       0.79      0.79      0.78       231\n",
      "\n"
     ]
    }
   ],
   "source": [
    "metrics.confusion_matrix(y_test,yhat)\n",
    "\n",
    "cm=confusion_matrix(y_test, yhat)\n",
    "from sklearn.metrics import classification_report\n",
    "print(\"\\nCR by library method=\\n\\n\\n\",classification_report(y_test, yhat))"
   ]
  },
  {
   "cell_type": "markdown",
   "id": "2e31f89f",
   "metadata": {},
   "source": [
    "**Trying xgboost for better accuarcy**"
   ]
  },
  {
   "cell_type": "code",
   "execution_count": 275,
   "id": "749b0765",
   "metadata": {
    "scrolled": true
   },
   "outputs": [
    {
     "name": "stdout",
     "output_type": "stream",
     "text": [
      "Requirement already satisfied: xgboost in c:\\users\\nti\\anaconda3\\lib\\site-packages (1.6.1)\n",
      "Requirement already satisfied: numpy in c:\\users\\nti\\anaconda3\\lib\\site-packages (from xgboost) (1.21.5)\n",
      "Requirement already satisfied: scipy in c:\\users\\nti\\anaconda3\\lib\\site-packages (from xgboost) (1.7.3)\n"
     ]
    }
   ],
   "source": [
    "!pip install xgboost"
   ]
  },
  {
   "cell_type": "code",
   "execution_count": 276,
   "id": "3eec393e",
   "metadata": {
    "scrolled": true
   },
   "outputs": [
    {
     "name": "stdout",
     "output_type": "stream",
     "text": [
      "\n",
      "CR by library method=\n",
      "\n",
      "\n",
      "               precision    recall  f1-score   support\n",
      "\n",
      "           0       0.85      0.86      0.85       146\n",
      "           1       0.75      0.74      0.75        85\n",
      "\n",
      "    accuracy                           0.81       231\n",
      "   macro avg       0.80      0.80      0.80       231\n",
      "weighted avg       0.81      0.81      0.81       231\n",
      "\n"
     ]
    }
   ],
   "source": [
    "from numpy import loadtxt\n",
    "from xgboost import XGBClassifier\n",
    "\n",
    "# fit model no training data185\n",
    "\n",
    "xg_reg = XGBClassifier( learning_rate =0.9,\n",
    "                       n_estimators=220,\n",
    "                       max_depth=7,\n",
    "                       min_child_weight=1,\n",
    "                       gamma=7\n",
    "                       ,subsample=0.8,\n",
    "                       colsample_bytree=0.8, \n",
    "                       objective= 'binary:logistic',\n",
    "                       nthread=8, \n",
    "                       scale_pos_weight=1,\n",
    "                       seed=27)\n",
    "xg_reg.fit(X_train, y_train)\n",
    "#print(xg_reg)\n",
    "preds = xg_reg.predict(X_test) \n",
    "cm=confusion_matrix(y_test,preds)\n",
    "print(\"\\nCR by library method=\\n\\n\\n\",\n",
    "          classification_report(y_test,preds))"
   ]
  },
  {
   "cell_type": "markdown",
   "id": "71f7a907",
   "metadata": {},
   "source": [
    "**The best accuarcy and recall was for Decision tree classifier then XGboost**"
   ]
  },
  {
   "cell_type": "code",
   "execution_count": null,
   "id": "a0afc939",
   "metadata": {},
   "outputs": [],
   "source": []
  }
 ],
 "metadata": {
  "kernelspec": {
   "display_name": "Python 3 (ipykernel)",
   "language": "python",
   "name": "python3"
  },
  "language_info": {
   "codemirror_mode": {
    "name": "ipython",
    "version": 3
   },
   "file_extension": ".py",
   "mimetype": "text/x-python",
   "name": "python",
   "nbconvert_exporter": "python",
   "pygments_lexer": "ipython3",
   "version": "3.9.12"
  }
 },
 "nbformat": 4,
 "nbformat_minor": 5
}
